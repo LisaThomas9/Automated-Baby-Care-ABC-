{
 "cells": [
  {
   "cell_type": "code",
   "execution_count": 1,
   "metadata": {},
   "outputs": [],
   "source": [
    "#acknowledgement - https://medium.freecodecamp.org/send-emails-using-code-4fcea9df63f\n",
    "def get_contacts(filename):\n",
    "    names = []\n",
    "    emails = []\n",
    "    with open(filename, mode='r', encoding='utf-8') as contacts_file:\n",
    "        for a_contact in contacts_file:\n",
    "            names.append(a_contact.split()[0])\n",
    "            emails.append(a_contact.split()[1])\n",
    "    return names, emails"
   ]
  },
  {
   "cell_type": "code",
   "execution_count": 2,
   "metadata": {},
   "outputs": [],
   "source": [
    "from string import Template\n",
    "\n",
    "def read_template(filename):\n",
    "    with open(filename, 'r', encoding='utf-8') as template_file:\n",
    "        template_file_content = template_file.read()\n",
    "    return Template(template_file_content)"
   ]
  },
  {
   "cell_type": "code",
   "execution_count": 15,
   "metadata": {},
   "outputs": [],
   "source": [
    "import smtplib\n",
    "\n",
    "from string import Template\n",
    "\n",
    "from email.mime.multipart import MIMEMultipart\n",
    "from email.mime.text import MIMEText\n",
    "\n",
    "def email_service():\n",
    "    names, emails = get_contacts('contacts.txt') # read contacts\n",
    "    message_template = read_template('messages.txt')\n",
    "\n",
    "    s = smtplib.SMTP(host='smtp.gmail.com', port=587)\n",
    "    s.starttls()\n",
    "    s.login('automatedbabycare@gmail.com','')\n",
    "\n",
    "    # For each contact, send the email:\n",
    "    for name, email in zip(names, emails):\n",
    "        msg = MIMEMultipart()       # create a message\n",
    "\n",
    "        # add in the actual person name to the message template\n",
    "        message = message_template.substitute(PERSON_NAME=name.title())\n",
    "\n",
    "        # Prints out the message body for our sake\n",
    "        print(message)\n",
    "\n",
    "        # setup the parameters of the message\n",
    "        msg['From']='automatedbabycare@gmail.com'\n",
    "        msg['To']=email\n",
    "        msg['Subject']=\"Your baby is crying\"\n",
    "        \n",
    "        # add in the message body\n",
    "        msg.attach(MIMEText(message, 'plain'))\n",
    "        \n",
    "        # send the message via the server set up earlier.\n",
    "        s.send_message(msg)\n",
    "        del msg\n",
    "    s.quit()\n",
    "    "
   ]
  },
  {
   "cell_type": "code",
   "execution_count": 17,
   "metadata": {},
   "outputs": [
    {
     "name": "stdout",
     "output_type": "stream",
     "text": [
      "Dear Softie, \n",
      "\n",
      "The baby is crying!\n",
      "\n"
     ]
    }
   ],
   "source": [
    "email_service()"
   ]
  },
  {
   "cell_type": "code",
   "execution_count": null,
   "metadata": {},
   "outputs": [],
   "source": []
  }
 ],
 "metadata": {
  "kernelspec": {
   "display_name": "Python 3",
   "language": "python",
   "name": "python3"
  },
  "language_info": {
   "codemirror_mode": {
    "name": "ipython",
    "version": 3
   },
   "file_extension": ".py",
   "mimetype": "text/x-python",
   "name": "python",
   "nbconvert_exporter": "python",
   "pygments_lexer": "ipython3",
   "version": "3.6.8"
  }
 },
 "nbformat": 4,
 "nbformat_minor": 2
}
