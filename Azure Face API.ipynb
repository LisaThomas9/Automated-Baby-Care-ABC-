{
 "cells": [
  {
   "cell_type": "code",
   "execution_count": 1,
   "metadata": {},
   "outputs": [
    {
     "name": "stdout",
     "output_type": "stream",
     "text": [
      "[{\"faceId\": \"aa1e05a2-04a7-4e11-93cc-d683b8055205\", \"faceRectangle\": {\"top\": 61, \"left\": 112, \"width\": 82, \"height\": 82}, \"faceAttributes\": {\"emotion\": {\"anger\": 0.0, \"contempt\": 0.0, \"disgust\": 0.0, \"fear\": 0.0, \"happiness\": 0.001, \"neutral\": 0.0, \"sadness\": 0.999, \"surprise\": 0.0}}}]\n"
     ]
    }
   ],
   "source": [
    "import json \n",
    "import requests\n",
    "\n",
    "subscription_key = '1691e8e96bc64328aa7de93fd68b8c5e9'\n",
    "face_api_url = 'https://westcentralus.api.cognitive.microsoft.com/face/v1.0/detect'\n",
    "\n",
    "path_to_file = \"img1.jpg\"\n",
    "\n",
    "# Read file\n",
    "with open(path_to_file, 'rb') as f:\n",
    "    data = f.read()\n",
    "\n",
    "# Set request headers\n",
    "headers = dict()\n",
    "headers['Ocp-Apim-Subscription-Key'] = subscription_key\n",
    "headers['Content-Type'] = 'application/octet-stream'\n",
    "\n",
    "   \n",
    "params = {\n",
    "    'returnFaceId': 'true',\n",
    "    'returnFaceLandmarks': 'false',\n",
    "    'returnFaceAttributes': 'emotion',\n",
    "}\n",
    "\n",
    "response = requests.post(face_api_url, params=params, headers=headers, data=data)\n",
    "print(json.dumps(response.json()))"
   ]
  },
  {
   "cell_type": "code",
   "execution_count": null,
   "metadata": {},
   "outputs": [],
   "source": []
  }
 ],
 "metadata": {
  "kernelspec": {
   "display_name": "Python 3",
   "language": "python",
   "name": "python3"
  },
  "language_info": {
   "codemirror_mode": {
    "name": "ipython",
    "version": 3
   },
   "file_extension": ".py",
   "mimetype": "text/x-python",
   "name": "python",
   "nbconvert_exporter": "python",
   "pygments_lexer": "ipython3",
   "version": "3.6.5"
  }
 },
 "nbformat": 4,
 "nbformat_minor": 2
}
